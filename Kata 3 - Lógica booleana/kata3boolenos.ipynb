{
 "cells": [
  {
   "cell_type": "markdown",
   "metadata": {},
   "source": [
    "# Advertencia de asteroide"
   ]
  },
  {
   "cell_type": "code",
   "execution_count": 9,
   "metadata": {},
   "outputs": [
    {
     "name": "stdout",
     "output_type": "stream",
     "text": [
      "No es por alertarte pero... ¡UN ASTEROIDE VA A CHOCAR CONTRA LA TIERRA!\n"
     ]
    }
   ],
   "source": [
    "vel_asteroide = 49\n",
    "\n",
    "if vel_asteroide > 25:\n",
    "    print(\"No es por alertarte pero... ¡UN ASTEROIDE VA A CHOCAR CONTRA LA TIERRA!\")\n",
    "else:\n",
    "    print(\"Todo tranquilo por ahora\")"
   ]
  },
  {
   "cell_type": "code",
   "execution_count": 4,
   "metadata": {},
   "outputs": [
    {
     "name": "stdout",
     "output_type": "stream",
     "text": [
      "Atención: un asteroide se acerca, por desgracia no tiene la velocidad suficiente para observarlo a simple vista.\n"
     ]
    }
   ],
   "source": [
    "vel_asteroide = 19\n",
    "\n",
    "if vel_asteroide >= 20:\n",
    "    print(\"Atención: un pequeño asteroide se acerca y puedes observar un rayo de luz bien bonito.\")\n",
    "else:\n",
    "    print(\"Atención: un asteroide se acerca, por desgracia no tiene la velocidad suficiente para observarlo a simple vista.\")"
   ]
  },
  {
   "cell_type": "code",
   "execution_count": 27,
   "metadata": {},
   "outputs": [
    {
     "name": "stdout",
     "output_type": "stream",
     "text": [
      "Atención: un pequeño asteroide se acerca y puedes observar un rayo de luz bien bonito.\n"
     ]
    }
   ],
   "source": [
    "vel_asteroide = 25\n",
    "tam_asteroide = 19\n",
    "\n",
    "if (tam_asteroide > 25 or tam_asteroide < 1000) and vel_asteroide > 25:\n",
    "        print(\"No es por alertarte pero... ¡UN ASTEROIDE VA A CHOCAR CONTRA LA TIERRA!\")\n",
    "elif vel_asteroide >= 20 and tam_asteroide < 25:\n",
    "        print(\"Atención: un pequeño asteroide se acerca y puedes observar un rayo de luz bien bonito.\")\n",
    "else:\n",
    "        print(\"Todo tranquilo por ahora\")"
   ]
  }
 ],
 "metadata": {
  "interpreter": {
   "hash": "ee5cc6fef2d70a7e71ee3826687cbd150f18158e0b1eef11d4f4f92bb920e304"
  },
  "kernelspec": {
   "display_name": "Python 3.9.5 64-bit",
   "language": "python",
   "name": "python3"
  },
  "language_info": {
   "codemirror_mode": {
    "name": "ipython",
    "version": 3
   },
   "file_extension": ".py",
   "mimetype": "text/x-python",
   "name": "python",
   "nbconvert_exporter": "python",
   "pygments_lexer": "ipython3",
   "version": "3.9.5"
  },
  "orig_nbformat": 4
 },
 "nbformat": 4,
 "nbformat_minor": 2
}
