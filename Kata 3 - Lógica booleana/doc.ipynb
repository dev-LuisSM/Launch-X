{
 "cells": [
  {
   "cell_type": "code",
   "execution_count": 11,
   "metadata": {},
   "outputs": [],
   "source": [
    "a = 97\n",
    "b = 55\n",
    "\n",
    "if a < b:\n",
    "    print(b)\n",
    "\n",
    "#False, no imprime\n"
   ]
  },
  {
   "cell_type": "code",
   "execution_count": 12,
   "metadata": {},
   "outputs": [
    {
     "name": "stdout",
     "output_type": "stream",
     "text": [
      "93\n"
     ]
    }
   ],
   "source": [
    "a = 93\n",
    "b = 27\n",
    "if a >= b:\n",
    "    print(a)\n",
    "#True, A es mayor que B"
   ]
  },
  {
   "cell_type": "code",
   "execution_count": 13,
   "metadata": {},
   "outputs": [
    {
     "name": "stdout",
     "output_type": "stream",
     "text": [
      "Else:\n",
      "93\n",
      "Elif:\n",
      "A es mayor o igual que B\n"
     ]
    }
   ],
   "source": [
    "#else\n",
    "a = 93\n",
    "b = 27\n",
    "print(\"Else:\")\n",
    "if a >= b:\n",
    "    print(a)\n",
    "else: \n",
    "    print (b)\n",
    "\n",
    "#elif\n",
    "print(\"Elif:\")\n",
    "if a >= b:\n",
    "    print(\"A es mayor o igual que B\")\n",
    "elif a == b: \n",
    "    print (\"A es igual que B\")"
   ]
  },
  {
   "cell_type": "code",
   "execution_count": null,
   "metadata": {},
   "outputs": [],
   "source": [
    "#Combinar declaraciones\n",
    "a = 93\n",
    "b = 27\n",
    "if a > b:\n",
    "    print(\"A es mayor que B\")\n",
    "elif a < b:\n",
    "    print(\"A es menor que B\")\n",
    "else:\n",
    "    print(\"A es igual que B\")"
   ]
  },
  {
   "cell_type": "code",
   "execution_count": 14,
   "metadata": {},
   "outputs": [
    {
     "name": "stdout",
     "output_type": "stream",
     "text": [
      "A es menor que B\n"
     ]
    }
   ],
   "source": [
    "#Anidar declaraciones\n",
    "a = 16\n",
    "b = 25\n",
    "c = 27\n",
    "if a > b:\n",
    "    if b > c:\n",
    "        print(\"A es mayor que B y B es mayor que C\")\n",
    "    else:\n",
    "        print(\"A es mayor que B y menor que C\")\n",
    "elif a == b:\n",
    "    print(\"A es igual que B\")\n",
    "else:\n",
    "    print(\"A es menor que B\")"
   ]
  },
  {
   "cell_type": "code",
   "execution_count": 16,
   "metadata": {},
   "outputs": [
    {
     "name": "stdout",
     "output_type": "stream",
     "text": [
      "OR:\n",
      "57\n",
      "AND:\n"
     ]
    }
   ],
   "source": [
    "#Operador OR\n",
    "a = 23\n",
    "b = 34\n",
    "print(\"OR:\")\n",
    "if a == 34 or b == 34:\n",
    "    print(a + b)\n",
    "\n",
    "#Operador AND\n",
    "print(\"AND:\")\n",
    "if a == 34 and b == 34:\n",
    "    print(a + b)"
   ]
  }
 ],
 "metadata": {
  "interpreter": {
   "hash": "ee5cc6fef2d70a7e71ee3826687cbd150f18158e0b1eef11d4f4f92bb920e304"
  },
  "kernelspec": {
   "display_name": "Python 3.9.5 64-bit",
   "language": "python",
   "name": "python3"
  },
  "language_info": {
   "codemirror_mode": {
    "name": "ipython",
    "version": 3
   },
   "file_extension": ".py",
   "mimetype": "text/x-python",
   "name": "python",
   "nbconvert_exporter": "python",
   "pygments_lexer": "ipython3",
   "version": "3.9.5"
  },
  "orig_nbformat": 4
 },
 "nbformat": 4,
 "nbformat_minor": 2
}
