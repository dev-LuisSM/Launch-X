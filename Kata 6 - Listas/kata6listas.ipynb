{
 "cells": [
  {
   "cell_type": "markdown",
   "metadata": {},
   "source": [
    "# Listas y planetas"
   ]
  },
  {
   "cell_type": "code",
   "execution_count": 4,
   "metadata": {},
   "outputs": [
    {
     "name": "stdout",
     "output_type": "stream",
     "text": [
      "In our solar system we have 9 planets\n",
      "The last planet is Pluto\n"
     ]
    }
   ],
   "source": [
    "# Planets\n",
    "planets = ['Mercury', 'Venus', 'Earth', 'Mars', 'Jupiter', 'Saturn', 'Uranus', 'Neptune'] #Perdón Plutón :(\n",
    "planets.append('Pluto') #Hola Plutón <3\n",
    "\n",
    "print(\"In our solar system we have\", len(planets), \"planets\")\n",
    "print(\"The last planet is\", planets[8])"
   ]
  },
  {
   "cell_type": "code",
   "execution_count": 8,
   "metadata": {},
   "outputs": [
    {
     "name": "stdout",
     "output_type": "stream",
     "text": [
      "The planets closer than Earth\n",
      "['Mercury', 'Venus']\n",
      "The planets further than Earth\n",
      "['Mars', 'Jupiter', 'Saturn', 'Neptune']\n"
     ]
    }
   ],
   "source": [
    "planets = ['Mercury', 'Venus', 'Earth', 'Mars', 'Jupiter', 'Saturn', 'Neptune']\n",
    "\n",
    "user_planet = input(\"How close is your favorite planet to the sun? (Remember to write in capital letters)\")\n",
    "index = planets.index(user_planet)\n",
    "\n",
    "print('The planets closer than', user_planet)\n",
    "closer_planets = planets[0:index]\n",
    "print(closer_planets)\n",
    "\n",
    "print('The planets further than', user_planet)\n",
    "further_planets = planets[index + 1:]\n",
    "print(further_planets)\n"
   ]
  }
 ],
 "metadata": {
  "interpreter": {
   "hash": "ee5cc6fef2d70a7e71ee3826687cbd150f18158e0b1eef11d4f4f92bb920e304"
  },
  "kernelspec": {
   "display_name": "Python 3.9.5 64-bit",
   "language": "python",
   "name": "python3"
  },
  "language_info": {
   "codemirror_mode": {
    "name": "ipython",
    "version": 3
   },
   "file_extension": ".py",
   "mimetype": "text/x-python",
   "name": "python",
   "nbconvert_exporter": "python",
   "pygments_lexer": "ipython3",
   "version": "3.9.5"
  },
  "orig_nbformat": 4
 },
 "nbformat": 4,
 "nbformat_minor": 2
}
