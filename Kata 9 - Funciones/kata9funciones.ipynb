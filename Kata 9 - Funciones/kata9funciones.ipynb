{
 "cells": [
  {
   "cell_type": "markdown",
   "metadata": {},
   "source": [
    "# Funciones"
   ]
  },
  {
   "cell_type": "code",
   "execution_count": 42,
   "metadata": {},
   "outputs": [
    {
     "name": "stdout",
     "output_type": "stream",
     "text": [
      " Fuel tanks report:\n",
      "    Tank 1: 80%\n",
      "    Tank 2: 70%\n",
      "    Tank 3: 85%\n",
      "    Average of fuel tanks: 78.33 %\n",
      "    \n"
     ]
    }
   ],
   "source": [
    "def average_tanks(args):\n",
    "    return sum(args) / len(args)\n",
    "#print(average_tanks((80, 70, 85)))\n",
    "\n",
    "def report(tank_1, tank_2, tank_3):\n",
    "    # average = (tank_1 + tank_2 + tank_3) / 3\n",
    "    return f\"\"\" Fuel tanks report:\n",
    "    Tank 1: {tank_1}%\n",
    "    Tank 2: {tank_2}%\n",
    "    Tank 3: {tank_3}%\n",
    "    Average of fuel tanks: {'%.2f' % average_tanks((tank_1, tank_2, tank_3))} %\n",
    "    \"\"\"\n",
    "print(report(80, 70, 85))\n",
    "\n"
   ]
  },
  {
   "cell_type": "code",
   "execution_count": 43,
   "metadata": {},
   "outputs": [
    {
     "name": "stdout",
     "output_type": "stream",
     "text": [
      "\n",
      "    --Mission 0010--\n",
      "        Destination: Mars\n",
      "\n",
      "        Prelaunch time: 10 mins\n",
      "        Flight time: 200 mins\n",
      "        Total time to destination: 210 mins\n",
      "\n",
      "        External tank fuel: 90 gal\n",
      "        Internal tank fuel: 100 gal\n",
      "        Total tank fuel: 190 gal\n",
      "    \n"
     ]
    }
   ],
   "source": [
    "# Function with all the parameters\n",
    "def mission_report(pre_launch, flight_time, destination, external_tank, internal_tank):\n",
    "    return f\"\"\"\n",
    "    --Mission 0010--\n",
    "        Destination: {destination}\n",
    "\n",
    "        Prelaunch time: {pre_launch} mins\n",
    "        Flight time: {flight_time} mins\n",
    "        Total time to destination: {pre_launch + flight_time} mins\n",
    "\n",
    "        External tank fuel: {external_tank} gal\n",
    "        Internal tank fuel: {internal_tank} gal\n",
    "        Total tank fuel: {external_tank + internal_tank} gal\n",
    "    \"\"\"\n",
    "print(mission_report(10, 200, 'Mars', 90, 100))"
   ]
  },
  {
   "cell_type": "code",
   "execution_count": 44,
   "metadata": {},
   "outputs": [
    {
     "name": "stdout",
     "output_type": "stream",
     "text": [
      "\n",
      "    --Mission 0010--\n",
      "        Destination: Mars\n",
      "        Total time to destination: 30 min\n",
      "        Total tank fuel: 190 gal\n",
      "    \n"
     ]
    }
   ],
   "source": [
    "# Function with args and kwargs\n",
    "def mission_report(destination, *minutes, **fuel):\n",
    "    return f\"\"\"\n",
    "    --Mission 0010--\n",
    "        Destination: {destination}\n",
    "        Total time to destination: {sum(minutes)} min\n",
    "        Total tank fuel: {sum(fuel.values())} gal\n",
    "    \"\"\"\n",
    "print(mission_report('Mars', 10, 20, external=90, internal=100)) "
   ]
  },
  {
   "cell_type": "code",
   "execution_count": 51,
   "metadata": {},
   "outputs": [
    {
     "name": "stdout",
     "output_type": "stream",
     "text": [
      "\n",
      "    --Mission 0010--\n",
      "        Destination: Moon\n",
      "        Total time to destination: 376 min\n",
      "        External tank: 3000 gal\n",
      "        Internal tank: 2000 gal\n",
      "    \n"
     ]
    }
   ],
   "source": [
    "# Functions with args and kwargs and external/internal tank\n",
    "\n",
    "def mission_report(destination, *minutes, **fuel):\n",
    "    report = f\"\"\"\n",
    "    --Mission 0010--\n",
    "        Destination: {destination}\n",
    "        Total time to destination: {sum(minutes)} min\n",
    "    \"\"\"\n",
    "    \n",
    "    for tank, gals in fuel.items():\n",
    "        report += f\"\"\"    {tank} tank: {gals} gal\\n    \"\"\"\n",
    "    return report\n",
    "print(mission_report(\"Moon\", 8, 250, 60, 58, External=3000, Internal=2000))"
   ]
  }
 ],
 "metadata": {
  "interpreter": {
   "hash": "ee5cc6fef2d70a7e71ee3826687cbd150f18158e0b1eef11d4f4f92bb920e304"
  },
  "kernelspec": {
   "display_name": "Python 3.9.5 64-bit",
   "language": "python",
   "name": "python3"
  },
  "language_info": {
   "codemirror_mode": {
    "name": "ipython",
    "version": 3
   },
   "file_extension": ".py",
   "mimetype": "text/x-python",
   "name": "python",
   "nbconvert_exporter": "python",
   "pygments_lexer": "ipython3",
   "version": "3.9.5"
  },
  "orig_nbformat": 4
 },
 "nbformat": 4,
 "nbformat_minor": 2
}
