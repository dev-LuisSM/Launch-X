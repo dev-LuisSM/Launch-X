{
 "cells": [
  {
   "cell_type": "markdown",
   "metadata": {},
   "source": [
    "# Operaciones Matemáticas"
   ]
  },
  {
   "cell_type": "code",
   "execution_count": 17,
   "metadata": {},
   "outputs": [
    {
     "name": "stdout",
     "output_type": "stream",
     "text": [
      "Distancia en KM: 628949330\n",
      "Distancia en MI: 390577534\n"
     ]
    }
   ],
   "source": [
    "# Datos\n",
    "tierra = 149597870\n",
    "jupiter = 778547200\n",
    "\n",
    "distancia_km = (jupiter - tierra)\n",
    "distancia_mi = distancia_km * 0.621\n",
    "print(\"Distancia en KM:\", (distancia_km))\n",
    "print(\"Distancia en MI:\", round(distancia_mi))"
   ]
  },
  {
   "cell_type": "code",
   "execution_count": 19,
   "metadata": {},
   "outputs": [
    {
     "name": "stdout",
     "output_type": "stream",
     "text": [
      "Distancia en KM: 170000000\n",
      "Distancia en MI: 105570000\n"
     ]
    }
   ],
   "source": [
    "# Pedir datos\n",
    "planeta_1 = input(\"¿Cuál es la distancia del sol al 1er planeta\")\n",
    "planeta_2 = input(\"¿Cuál es la distancia del sol al 2do planeta\")\n",
    "\n",
    "planeta_1 = int(planeta_1)\n",
    "planeta_2 = int(planeta_2)\n",
    "\n",
    "distancia = abs(planeta_1 - planeta_2)\n",
    "distancia_mi = (distancia) * 0.621\n",
    "print(\"Distancia en KM:\", distancia)\n",
    "print(\"Distancia en MI:\", round(distancia_mi))"
   ]
  }
 ],
 "metadata": {
  "interpreter": {
   "hash": "ee5cc6fef2d70a7e71ee3826687cbd150f18158e0b1eef11d4f4f92bb920e304"
  },
  "kernelspec": {
   "display_name": "Python 3.9.5 64-bit",
   "language": "python",
   "name": "python3"
  },
  "language_info": {
   "codemirror_mode": {
    "name": "ipython",
    "version": 3
   },
   "file_extension": ".py",
   "mimetype": "text/x-python",
   "name": "python",
   "nbconvert_exporter": "python",
   "pygments_lexer": "ipython3",
   "version": "3.9.5"
  },
  "orig_nbformat": 4
 },
 "nbformat": 4,
 "nbformat_minor": 2
}
