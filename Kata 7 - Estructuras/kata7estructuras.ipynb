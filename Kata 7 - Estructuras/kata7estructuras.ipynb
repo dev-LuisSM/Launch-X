{
 "cells": [
  {
   "cell_type": "markdown",
   "metadata": {},
   "source": [
    "# Ciclos While - For"
   ]
  },
  {
   "cell_type": "code",
   "execution_count": 23,
   "metadata": {},
   "outputs": [
    {
     "name": "stdout",
     "output_type": "stream",
     "text": [
      "Your planet # 1 is: Mars\n",
      "Your planet # 2 is: Earth\n",
      "Your planet # 3 is: Jupiter\n",
      "Your planet # 4 is: Uranus\n"
     ]
    }
   ],
   "source": [
    "new_planet = ''\n",
    "planets = []\n",
    "\n",
    "while new_planet.lower() != 'done':\n",
    "    new_planet = input(\"Enter a new planet or 'done' to finish\")\n",
    "    if new_planet != '' : # Validate empty inputs\n",
    "        planets.append(new_planet)\n",
    "\n",
    "for number, planet in enumerate(planets):\n",
    "    if planet != 'done':\n",
    "        print(\"Your planet #\",(number+1),\"is:\",planet)\n",
    "\n"
   ]
  }
 ],
 "metadata": {
  "interpreter": {
   "hash": "ee5cc6fef2d70a7e71ee3826687cbd150f18158e0b1eef11d4f4f92bb920e304"
  },
  "kernelspec": {
   "display_name": "Python 3.9.5 64-bit",
   "language": "python",
   "name": "python3"
  },
  "language_info": {
   "codemirror_mode": {
    "name": "ipython",
    "version": 3
   },
   "file_extension": ".py",
   "mimetype": "text/x-python",
   "name": "python",
   "nbconvert_exporter": "python",
   "pygments_lexer": "ipython3",
   "version": "3.9.5"
  },
  "orig_nbformat": 4
 },
 "nbformat": 4,
 "nbformat_minor": 2
}
